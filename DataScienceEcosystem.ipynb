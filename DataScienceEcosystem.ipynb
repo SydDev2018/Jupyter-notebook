{
 "cells": [
  {
   "cell_type": "markdown",
   "id": "97807d81-484b-4b9a-8294-4b136c8cfd9b",
   "metadata": {},
   "source": [
    "# Data Science Tools and Ecosystem"
   ]
  },
  {
   "cell_type": "markdown",
   "id": "4c85a85b-ddef-471b-969e-006f178de995",
   "metadata": {},
   "source": [
    "In this notebook, Data Science Tools and Ecosystem are summarized."
   ]
  },
  {
   "cell_type": "markdown",
   "id": "b4ddb0e1-c26b-4515-9126-37935be28e99",
   "metadata": {},
   "source": [
    "**Objectives:** \n",
    "* To learn how to use Jupyter Notebook\n",
    "* Creating Markdown to provide notes explanations to make it easier for the reader\n",
    "* Learn how to write simple arithmetic expressions"
   ]
  },
  {
   "cell_type": "markdown",
   "id": "8bff832a-e711-409e-a495-21a5deb63bef",
   "metadata": {},
   "source": [
    "Some of the popular languages that Data Scientists use are:\n",
    "1. Python\n",
    "2. R\n",
    "3. SQL\n"
   ]
  },
  {
   "cell_type": "markdown",
   "id": "397e913d-b451-414e-9eea-3bf10d3aafaf",
   "metadata": {},
   "source": [
    "Some of the commonly used libraries used by Data Scientists include:\n",
    "1. NumPy\n",
    "2. Pandas\n",
    "3. Matplotlib\n",
    "4. Scikit-learn\n"
   ]
  },
  {
   "cell_type": "markdown",
   "id": "1ca82b46-7520-4a74-8fa2-06b0e758f400",
   "metadata": {},
   "source": [
    "| Data Science Tools |\n",
    "| -------------------|\n",
    "|1.Python            |\n",
    "|2.R                 |\n",
    "|3.Apache Spark      |"
   ]
  },
  {
   "cell_type": "markdown",
   "id": "b48e0638-bf76-48be-909f-623b9236fd82",
   "metadata": {},
   "source": [
    "### Below are a few examples of evaluating arithmetic expressions in Python"
   ]
  },
  {
   "cell_type": "markdown",
   "id": "c637d46c-551e-49be-ad75-e2f073bcb77b",
   "metadata": {},
   "source": [
    "This a simple arithmetic expression to mutiply then add integers."
   ]
  },
  {
   "cell_type": "code",
   "execution_count": 2,
   "id": "0f3db072-67e8-425c-ac27-6724c3b2ffb3",
   "metadata": {},
   "outputs": [
    {
     "data": {
      "text/plain": [
       "17"
      ]
     },
     "execution_count": 2,
     "metadata": {},
     "output_type": "execute_result"
    }
   ],
   "source": [
    "(3*4)+5"
   ]
  },
  {
   "cell_type": "markdown",
   "id": "d2720290-01fe-4f87-9ed9-56b3727b5c42",
   "metadata": {},
   "source": [
    "# This will convert 200 minutes to hours by diving by 60"
   ]
  },
  {
   "cell_type": "code",
   "execution_count": 4,
   "id": "639c8a1e-aa21-41f5-b092-aa365220e02f",
   "metadata": {},
   "outputs": [
    {
     "data": {
      "text/plain": [
       "3"
      ]
     },
     "execution_count": 4,
     "metadata": {},
     "output_type": "execute_result"
    }
   ],
   "source": [
    "round(200/60)"
   ]
  },
  {
   "cell_type": "markdown",
   "id": "d686a667-68f1-47d6-8f2f-00a4df8d4d09",
   "metadata": {},
   "source": [
    "## Author\n",
    "Sydney Ncube"
   ]
  }
 ],
 "metadata": {
  "kernelspec": {
   "display_name": "Python 3 (ipykernel)",
   "language": "python",
   "name": "python3"
  },
  "language_info": {
   "codemirror_mode": {
    "name": "ipython",
    "version": 3
   },
   "file_extension": ".py",
   "mimetype": "text/x-python",
   "name": "python",
   "nbconvert_exporter": "python",
   "pygments_lexer": "ipython3",
   "version": "3.12.8"
  }
 },
 "nbformat": 4,
 "nbformat_minor": 5
}
